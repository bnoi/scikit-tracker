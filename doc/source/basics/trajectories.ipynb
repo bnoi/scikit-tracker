{
 "metadata": {
  "kernelspec": {
   "codemirror_mode": {
    "name": "python",
    "version": 3
   },
   "display_name": "Python 3",
   "language": "python",
   "name": "python3"
  },
  "name": "",
  "signature": "sha256:f61a10ca6c0b88e7c0fed53cee2f0f7b5c28c40cdf130a934220e4f5dfb0419b"
 },
 "nbformat": 3,
 "nbformat_minor": 0,
 "worksheets": [
  {
   "cells": [
    {
     "cell_type": "markdown",
     "metadata": {},
     "source": [
      "# Representation of trajectories"
     ]
    },
    {
     "cell_type": "markdown",
     "metadata": {},
     "source": [
      "`sktracker.trajectories.Trajectories` is probably the most important class in `sktracker` as it represents detected objects and links between them. `Trajectories` is a subclass of `pandas.DataFrame` which provides convenient methods.\n",
      "\n",
      "A `Trajectories` object consists of several single trajectory. Each row contains an **object** which has several features (columns) and two integer as index. The first integer is a time stamp `t_stamp` and the second one is a `label`. Objects from the same `label` belong to the same trajectory.\n",
      "\n",
      "Be aware that `t_stamp` are time index and does not represent time in second or minute. Time position (in second or minute) can be stored as object's features in columns (with 't' for example)."
     ]
    },
    {
     "cell_type": "markdown",
     "metadata": {},
     "source": [
      "## Trajectories creation\n",
      "\n",
      "All you need to create a `Trajectories` object is a `pandas.DataFrame`. Note that `sktracker` makes an heavy use of `pandas.DataFrame`. If you are not familiar with it, take a look at the wonderfull [Pandas documentation](http://pandas.pydata.org/pandas-docs/stable/)."
     ]
    },
    {
     "cell_type": "code",
     "collapsed": false,
     "input": [
      "%matplotlib inline"
     ],
     "language": "python",
     "metadata": {},
     "outputs": [],
     "prompt_number": 1
    },
    {
     "cell_type": "code",
     "collapsed": false,
     "input": [
      "import pandas as pd\n",
      "import numpy as np\n",
      "\n",
      "trajs = pd.DataFrame(np.random.random((30, 3)), columns=['x', 'y', 'z'])\n",
      "trajs['t_stamp'] = np.sort(np.random.choice(range(10), (len(trajs),)))\n",
      "trajs['label'] = list(range(len(trajs)))\n",
      "trajs['t'] = trajs['t_stamp'] * 60  # t are in seconds for example\n",
      "trajs.set_index(['t_stamp', 'label'], inplace=True)\n",
      "trajs.sort_index(inplace=True)\n",
      "trajs.head()"
     ],
     "language": "python",
     "metadata": {},
     "outputs": [
      {
       "html": [
        "<div style=\"max-height:1000px;max-width:1500px;overflow:auto;\">\n",
        "<table border=\"1\" class=\"dataframe\">\n",
        "  <thead>\n",
        "    <tr style=\"text-align: right;\">\n",
        "      <th></th>\n",
        "      <th></th>\n",
        "      <th>x</th>\n",
        "      <th>y</th>\n",
        "      <th>z</th>\n",
        "      <th>t</th>\n",
        "    </tr>\n",
        "    <tr>\n",
        "      <th>t_stamp</th>\n",
        "      <th>label</th>\n",
        "      <th></th>\n",
        "      <th></th>\n",
        "      <th></th>\n",
        "      <th></th>\n",
        "    </tr>\n",
        "  </thead>\n",
        "  <tbody>\n",
        "    <tr>\n",
        "      <th rowspan=\"5\" valign=\"top\">0</th>\n",
        "      <th>0</th>\n",
        "      <td> 0.755132</td>\n",
        "      <td> 0.221662</td>\n",
        "      <td> 0.025128</td>\n",
        "      <td> 0</td>\n",
        "    </tr>\n",
        "    <tr>\n",
        "      <th>1</th>\n",
        "      <td> 0.310962</td>\n",
        "      <td> 0.131822</td>\n",
        "      <td> 0.699350</td>\n",
        "      <td> 0</td>\n",
        "    </tr>\n",
        "    <tr>\n",
        "      <th>2</th>\n",
        "      <td> 0.526843</td>\n",
        "      <td> 0.947130</td>\n",
        "      <td> 0.095154</td>\n",
        "      <td> 0</td>\n",
        "    </tr>\n",
        "    <tr>\n",
        "      <th>3</th>\n",
        "      <td> 0.624602</td>\n",
        "      <td> 0.086930</td>\n",
        "      <td> 0.590934</td>\n",
        "      <td> 0</td>\n",
        "    </tr>\n",
        "    <tr>\n",
        "      <th>4</th>\n",
        "      <td> 0.231310</td>\n",
        "      <td> 0.869745</td>\n",
        "      <td> 0.751812</td>\n",
        "      <td> 0</td>\n",
        "    </tr>\n",
        "  </tbody>\n",
        "</table>\n",
        "</div>"
       ],
       "metadata": {},
       "output_type": "pyout",
       "prompt_number": 2,
       "text": [
        "                      x         y         z  t\n",
        "t_stamp label                                 \n",
        "0       0      0.755132  0.221662  0.025128  0\n",
        "        1      0.310962  0.131822  0.699350  0\n",
        "        2      0.526843  0.947130  0.095154  0\n",
        "        3      0.624602  0.086930  0.590934  0\n",
        "        4      0.231310  0.869745  0.751812  0"
       ]
      }
     ],
     "prompt_number": 2
    },
    {
     "cell_type": "markdown",
     "metadata": {},
     "source": [
      "To create `Trajectories`, dataframe need to have:\n",
      "\n",
      "- columns ('x', 'y', 'z', 't' here)\n",
      "- a multi index (see [pandas doc](http://pandas.pydata.org/pandas-docs/stable/indexing.html#hierarchical-indexing-multiindex)) with two levels : `t_stamp` and `label`\n",
      "\n",
      "While `t_stamp` and `label` are required. Columns can contain anything you want/need."
     ]
    },
    {
     "cell_type": "code",
     "collapsed": false,
     "input": [
      "from sktracker.trajectories import Trajectories\n",
      "\n",
      "# Create a Trajectories instance\n",
      "trajs = Trajectories(trajs)"
     ],
     "language": "python",
     "metadata": {},
     "outputs": [
      {
       "output_type": "stream",
       "stream": "stderr",
       "text": [
        "2014-08-14 14:37:09:INFO:sktracker.utils.mpl_loader: Matplotlib backend 'Qt4Agg' has been loaded.\n"
       ]
      }
     ]
    },
    {
     "cell_type": "markdown",
     "metadata": {},
     "source": [
      "## Trajectories viewer\n",
      "\n",
      "First thing you want to do is probably to visualize trajectories you're working on. First load some sample dataset."
     ]
    },
    {
     "cell_type": "code",
     "collapsed": false,
     "input": [
      "import numpy as np\n",
      "from sktracker import data\n",
      "from sktracker.trajectories import Trajectories\n",
      "trajs = data.with_gaps_df()\n",
      "trajs = Trajectories(trajs)\n",
      "trajs.head()"
     ],
     "language": "python",
     "metadata": {},
     "outputs": [
      {
       "html": [
        "<div style=\"max-height:1000px;max-width:1500px;overflow:auto;\">\n",
        "<table border=\"1\" class=\"dataframe\">\n",
        "  <thead>\n",
        "    <tr style=\"text-align: right;\">\n",
        "      <th></th>\n",
        "      <th></th>\n",
        "      <th>x</th>\n",
        "      <th>y</th>\n",
        "      <th>z</th>\n",
        "      <th>true_label</th>\n",
        "      <th>t</th>\n",
        "    </tr>\n",
        "    <tr>\n",
        "      <th>t_stamp</th>\n",
        "      <th>label</th>\n",
        "      <th></th>\n",
        "      <th></th>\n",
        "      <th></th>\n",
        "      <th></th>\n",
        "      <th></th>\n",
        "    </tr>\n",
        "  </thead>\n",
        "  <tbody>\n",
        "    <tr>\n",
        "      <th rowspan=\"3\" valign=\"top\">0</th>\n",
        "      <th>0</th>\n",
        "      <td>-15.425890</td>\n",
        "      <td>  3.604392</td>\n",
        "      <td> -9.723257</td>\n",
        "      <td> 0</td>\n",
        "      <td> 0</td>\n",
        "    </tr>\n",
        "    <tr>\n",
        "      <th>1</th>\n",
        "      <td> -0.419929</td>\n",
        "      <td> 17.429072</td>\n",
        "      <td> 10.077393</td>\n",
        "      <td> 1</td>\n",
        "      <td> 0</td>\n",
        "    </tr>\n",
        "    <tr>\n",
        "      <th>2</th>\n",
        "      <td>-18.238856</td>\n",
        "      <td>  7.356460</td>\n",
        "      <td>  1.138426</td>\n",
        "      <td> 2</td>\n",
        "      <td> 0</td>\n",
        "    </tr>\n",
        "    <tr>\n",
        "      <th rowspan=\"2\" valign=\"top\">1</th>\n",
        "      <th>0</th>\n",
        "      <td>-13.126613</td>\n",
        "      <td>  2.122316</td>\n",
        "      <td> -9.375269</td>\n",
        "      <td> 0</td>\n",
        "      <td> 1</td>\n",
        "    </tr>\n",
        "    <tr>\n",
        "      <th>1</th>\n",
        "      <td> -1.217757</td>\n",
        "      <td> 15.554279</td>\n",
        "      <td> 10.444372</td>\n",
        "      <td> 1</td>\n",
        "      <td> 1</td>\n",
        "    </tr>\n",
        "  </tbody>\n",
        "</table>\n",
        "</div>"
       ],
       "metadata": {},
       "output_type": "pyout",
       "prompt_number": 4,
       "text": [
        "                       x          y          z  true_label  t\n",
        "t_stamp label                                                \n",
        "0       0     -15.425890   3.604392  -9.723257           0  0\n",
        "        1      -0.419929  17.429072  10.077393           1  0\n",
        "        2     -18.238856   7.356460   1.138426           2  0\n",
        "1       0     -13.126613   2.122316  -9.375269           0  1\n",
        "        1      -1.217757  15.554279  10.444372           1  1"
       ]
      }
     ],
     "prompt_number": 4
    },
    {
     "cell_type": "code",
     "collapsed": false,
     "input": [
      "trajs.show()"
     ],
     "language": "python",
     "metadata": {},
     "outputs": [
      {
       "metadata": {},
       "output_type": "pyout",
       "prompt_number": 5,
       "text": [
        "<matplotlib.axes.AxesSubplot at 0x2b3145159550>"
       ]
      },
      {
       "metadata": {},
       "output_type": "display_data",
       "png": "[encoded data removed]",
       "text": [
        "<matplotlib.figure.Figure at 0x2b312c6f64a8>"
       ]
      }
     ],
     "prompt_number": 5
    },
    {
     "cell_type": "markdown",
     "metadata": {},
     "source": [
      "You can change axis to display. "
     ]
    },
    {
     "cell_type": "code",
     "collapsed": false,
     "input": [
      "trajs.show(xaxis='t', yaxis='y')"
     ],
     "language": "python",
     "metadata": {},
     "outputs": [
      {
       "metadata": {},
       "output_type": "pyout",
       "prompt_number": 6,
       "text": [
        "<matplotlib.axes.AxesSubplot at 0x2b31471941d0>"
       ]
      },
      {
       "metadata": {},
       "output_type": "display_data",
       "png": "[encoded data removed]",
       "text": [
        "<matplotlib.figure.Figure at 0x2b31471abdd8>"
       ]
      }
     ],
     "prompt_number": 6
    },
    {
     "cell_type": "markdown",
     "metadata": {},
     "source": [
      "You can also add a legend."
     ]
    },
    {
     "cell_type": "code",
     "collapsed": false,
     "input": [
      "trajs.show(legend=True)"
     ],
     "language": "python",
     "metadata": {},
     "outputs": [
      {
       "metadata": {},
       "output_type": "pyout",
       "prompt_number": 7,
       "text": [
        "<matplotlib.axes.AxesSubplot at 0x2b3147250da0>"
       ]
      },
      {
       "metadata": {},
       "output_type": "display_data",
       "png": "[encoded data removed]",
       "text": [
        "<matplotlib.figure.Figure at 0x2b314725a780>"
       ]
      }
     ],
     "prompt_number": 7
    },
    {
     "cell_type": "markdown",
     "metadata": {},
     "source": [
      "You can also build more complex figures."
     ]
    },
    {
     "cell_type": "code",
     "collapsed": false,
     "input": [
      "import matplotlib.pyplot as plt\n",
      "fig = plt.figure(figsize=(15, 3))\n",
      "\n",
      "ax1 = plt.subplot2grid((1, 3), (0, 0))\n",
      "ax2 = plt.subplot2grid((1, 3), (0, 1))\n",
      "ax3 = plt.subplot2grid((1, 3), (0, 2))\n",
      "\n",
      "trajs.show(xaxis='t', yaxis='x', ax=ax1)\n",
      "trajs.show(xaxis='t', yaxis='y', ax=ax2)\n",
      "trajs.show(xaxis='t', yaxis='z', ax=ax3)"
     ],
     "language": "python",
     "metadata": {},
     "outputs": [
      {
       "metadata": {},
       "output_type": "pyout",
       "prompt_number": 8,
       "text": [
        "<matplotlib.axes.AxesSubplot at 0x2b31473bb0f0>"
       ]
      },
      {
       "metadata": {},
       "output_type": "display_data",
       "png": "[encoded data removed]",
       "text": [
        "<matplotlib.figure.Figure at 0x2b31471bb128>"
       ]
      }
     ],
     "prompt_number": 8
    },
    {
     "cell_type": "markdown",
     "metadata": {},
     "source": [
      "`Trajectories.show()` is a nice way to quickly build visualizations. However `sktracker.ui` module provides more complex functions and classes in order to visualize your trajectories/dataset. See [here](ui.html) for more details."
     ]
    },
    {
     "cell_type": "markdown",
     "metadata": {},
     "source": [
      "## Retrieve informations\n",
      "\n",
      "Here you will find how to retrieve informations specific to trajectories. Remember that trajectory and segment are the same as well as object/peak and spot are the same."
     ]
    },
    {
     "cell_type": "code",
     "collapsed": false,
     "input": [
      "import numpy as np\n",
      "from sktracker import data\n",
      "from sktracker.trajectories import Trajectories\n",
      "trajs = data.with_gaps_df()\n",
      "trajs = Trajectories(trajs)\n",
      "trajs.head()"
     ],
     "language": "python",
     "metadata": {},
     "outputs": [
      {
       "html": [
        "<div style=\"max-height:1000px;max-width:1500px;overflow:auto;\">\n",
        "<table border=\"1\" class=\"dataframe\">\n",
        "  <thead>\n",
        "    <tr style=\"text-align: right;\">\n",
        "      <th></th>\n",
        "      <th></th>\n",
        "      <th>x</th>\n",
        "      <th>y</th>\n",
        "      <th>z</th>\n",
        "      <th>true_label</th>\n",
        "      <th>t</th>\n",
        "    </tr>\n",
        "    <tr>\n",
        "      <th>t_stamp</th>\n",
        "      <th>label</th>\n",
        "      <th></th>\n",
        "      <th></th>\n",
        "      <th></th>\n",
        "      <th></th>\n",
        "      <th></th>\n",
        "    </tr>\n",
        "  </thead>\n",
        "  <tbody>\n",
        "    <tr>\n",
        "      <th rowspan=\"3\" valign=\"top\">0</th>\n",
        "      <th>0</th>\n",
        "      <td>-15.425890</td>\n",
        "      <td>  3.604392</td>\n",
        "      <td> -9.723257</td>\n",
        "      <td> 0</td>\n",
        "      <td> 0</td>\n",
        "    </tr>\n",
        "    <tr>\n",
        "      <th>1</th>\n",
        "      <td> -0.419929</td>\n",
        "      <td> 17.429072</td>\n",
        "      <td> 10.077393</td>\n",
        "      <td> 1</td>\n",
        "      <td> 0</td>\n",
        "    </tr>\n",
        "    <tr>\n",
        "      <th>2</th>\n",
        "      <td>-18.238856</td>\n",
        "      <td>  7.356460</td>\n",
        "      <td>  1.138426</td>\n",
        "      <td> 2</td>\n",
        "      <td> 0</td>\n",
        "    </tr>\n",
        "    <tr>\n",
        "      <th rowspan=\"2\" valign=\"top\">1</th>\n",
        "      <th>0</th>\n",
        "      <td>-13.126613</td>\n",
        "      <td>  2.122316</td>\n",
        "      <td> -9.375269</td>\n",
        "      <td> 0</td>\n",
        "      <td> 1</td>\n",
        "    </tr>\n",
        "    <tr>\n",
        "      <th>1</th>\n",
        "      <td> -1.217757</td>\n",
        "      <td> 15.554279</td>\n",
        "      <td> 10.444372</td>\n",
        "      <td> 1</td>\n",
        "      <td> 1</td>\n",
        "    </tr>\n",
        "  </tbody>\n",
        "</table>\n",
        "</div>"
       ],
       "metadata": {},
       "output_type": "pyout",
       "prompt_number": 9,
       "text": [
        "                       x          y          z  true_label  t\n",
        "t_stamp label                                                \n",
        "0       0     -15.425890   3.604392  -9.723257           0  0\n",
        "        1      -0.419929  17.429072  10.077393           1  0\n",
        "        2     -18.238856   7.356460   1.138426           2  0\n",
        "1       0     -13.126613   2.122316  -9.375269           0  1\n",
        "        1      -1.217757  15.554279  10.444372           1  1"
       ]
      }
     ],
     "prompt_number": 9
    },
    {
     "cell_type": "code",
     "collapsed": false,
     "input": [
      "trajs.t_stamps"
     ],
     "language": "python",
     "metadata": {},
     "outputs": [
      {
       "metadata": {},
       "output_type": "pyout",
       "prompt_number": 10,
       "text": [
        "array([ 0,  1,  2,  3,  4,  5,  6,  7,  8,  9, 10, 11, 12, 13, 14, 15, 16,\n",
        "       17, 18, 19])"
       ]
      }
     ],
     "prompt_number": 10
    },
    {
     "cell_type": "code",
     "collapsed": false,
     "input": [
      "# Each label corresponds to one segment/trajectory\n",
      "trajs.labels"
     ],
     "language": "python",
     "metadata": {},
     "outputs": [
      {
       "metadata": {},
       "output_type": "pyout",
       "prompt_number": 11,
       "text": [
        "array([0, 1, 2, 3, 4, 5, 6])"
       ]
      }
     ],
     "prompt_number": 11
    },
    {
     "cell_type": "code",
     "collapsed": false,
     "input": [
      "# Get dict if dataframe index of segments (sorted by labels)\n",
      "trajs.segment_idxs[0]"
     ],
     "language": "python",
     "metadata": {},
     "outputs": [
      {
       "metadata": {},
       "output_type": "pyout",
       "prompt_number": 12,
       "text": [
        "[(0, 0), (1, 0), (2, 0), (3, 0)]"
       ]
      }
     ],
     "prompt_number": 12
    },
    {
     "cell_type": "code",
     "collapsed": false,
     "input": [
      "# Iterator over segments\n",
      "for label, segment in trajs.iter_segments:\n",
      "    print(label, end=' ')"
     ],
     "language": "python",
     "metadata": {},
     "outputs": [
      {
       "output_type": "stream",
       "stream": "stdout",
       "text": [
        "0 1 2 3 4 5 6 "
       ]
      }
     ]
    },
    {
     "cell_type": "code",
     "collapsed": false,
     "input": [
      "# Get bounds (first and last spots/objects) of each segment\n",
      "trajs.get_bounds()"
     ],
     "language": "python",
     "metadata": {},
     "outputs": [
      {
       "metadata": {},
       "output_type": "pyout",
       "prompt_number": 14,
       "text": [
        "{0: (0, 3),\n",
        " 1: (0, 5),\n",
        " 2: (0, 13),\n",
        " 3: (5, 16),\n",
        " 4: (7, 19),\n",
        " 5: (15, 19),\n",
        " 6: (18, 19)}"
       ]
      }
     ],
     "prompt_number": 14
    },
    {
     "cell_type": "code",
     "collapsed": false,
     "input": [
      "# Get a different colors for each segments\n",
      "trajs.get_colors()"
     ],
     "language": "python",
     "metadata": {},
     "outputs": [
      {
       "metadata": {},
       "output_type": "pyout",
       "prompt_number": 15,
       "text": [
        "{0: '#FF0000',\n",
        " 1: '#FFE000',\n",
        " 2: '#3DFF00',\n",
        " 3: '#00FFA9',\n",
        " 4: '#0074FF',\n",
        " 5: '#7200FF',\n",
        " 6: '#FF00AC'}"
       ]
      }
     ],
     "prompt_number": 15
    },
    {
     "cell_type": "markdown",
     "metadata": {},
     "source": [
      "Some other methods such as:\n",
      "\n",
      "- `get_segments()`\n",
      "- `get_longest_segments()`\n",
      "- `get_shortest_segments()`\n",
      "- `get_t_stamps_correspondences()`\n",
      "\n",
      "See [`Trajectories` API](http://scikit-tracker.org/dev/api/sktracker.trajectories.html#sktracker.trajectories.Trajectories) for more informations."
     ]
    },
    {
     "cell_type": "markdown",
     "metadata": {},
     "source": [
      "## Modify trajectories\n",
      "\n",
      "Automatic objects detection and tracking is very powerfull. However sometime you'll need to manually edit and modify trajectories. Here it is presented methods to help you with that. Methods are separated in two kinds : *global* and *local* trajectories modifications."
     ]
    },
    {
     "cell_type": "code",
     "collapsed": false,
     "input": [
      "import numpy as np\n",
      "from sktracker import data\n",
      "from sktracker.trajectories import Trajectories\n",
      "trajs = data.with_gaps_df()\n",
      "trajs = Trajectories(trajs)\n",
      "trajs.head()"
     ],
     "language": "python",
     "metadata": {},
     "outputs": [
      {
       "html": [
        "<div style=\"max-height:1000px;max-width:1500px;overflow:auto;\">\n",
        "<table border=\"1\" class=\"dataframe\">\n",
        "  <thead>\n",
        "    <tr style=\"text-align: right;\">\n",
        "      <th></th>\n",
        "      <th></th>\n",
        "      <th>x</th>\n",
        "      <th>y</th>\n",
        "      <th>z</th>\n",
        "      <th>true_label</th>\n",
        "      <th>t</th>\n",
        "    </tr>\n",
        "    <tr>\n",
        "      <th>t_stamp</th>\n",
        "      <th>label</th>\n",
        "      <th></th>\n",
        "      <th></th>\n",
        "      <th></th>\n",
        "      <th></th>\n",
        "      <th></th>\n",
        "    </tr>\n",
        "  </thead>\n",
        "  <tbody>\n",
        "    <tr>\n",
        "      <th rowspan=\"3\" valign=\"top\">0</th>\n",
        "      <th>0</th>\n",
        "      <td>-15.425890</td>\n",
        "      <td>  3.604392</td>\n",
        "      <td> -9.723257</td>\n",
        "      <td> 0</td>\n",
        "      <td> 0</td>\n",
        "    </tr>\n",
        "    <tr>\n",
        "      <th>1</th>\n",
        "      <td> -0.419929</td>\n",
        "      <td> 17.429072</td>\n",
        "      <td> 10.077393</td>\n",
        "      <td> 1</td>\n",
        "      <td> 0</td>\n",
        "    </tr>\n",
        "    <tr>\n",
        "      <th>2</th>\n",
        "      <td>-18.238856</td>\n",
        "      <td>  7.356460</td>\n",
        "      <td>  1.138426</td>\n",
        "      <td> 2</td>\n",
        "      <td> 0</td>\n",
        "    </tr>\n",
        "    <tr>\n",
        "      <th rowspan=\"2\" valign=\"top\">1</th>\n",
        "      <th>0</th>\n",
        "      <td>-13.126613</td>\n",
        "      <td>  2.122316</td>\n",
        "      <td> -9.375269</td>\n",
        "      <td> 0</td>\n",
        "      <td> 1</td>\n",
        "    </tr>\n",
        "    <tr>\n",
        "      <th>1</th>\n",
        "      <td> -1.217757</td>\n",
        "      <td> 15.554279</td>\n",
        "      <td> 10.444372</td>\n",
        "      <td> 1</td>\n",
        "      <td> 1</td>\n",
        "    </tr>\n",
        "  </tbody>\n",
        "</table>\n",
        "</div>"
       ],
       "metadata": {},
       "output_type": "pyout",
       "prompt_number": 16,
       "text": [
        "                       x          y          z  true_label  t\n",
        "t_stamp label                                                \n",
        "0       0     -15.425890   3.604392  -9.723257           0  0\n",
        "        1      -0.419929  17.429072  10.077393           1  0\n",
        "        2     -18.238856   7.356460   1.138426           2  0\n",
        "1       0     -13.126613   2.122316  -9.375269           0  1\n",
        "        1      -1.217757  15.554279  10.444372           1  1"
       ]
      }
     ],
     "prompt_number": 16
    },
    {
     "cell_type": "markdown",
     "metadata": {},
     "source": []
    },
    {
     "cell_type": "markdown",
     "metadata": {},
     "source": [
      "### Global modifications"
     ]
    },
    {
     "cell_type": "markdown",
     "metadata": {},
     "source": [
      "Reverse trajectories according to a column (time column makes sense most of the time :-))"
     ]
    },
    {
     "cell_type": "code",
     "collapsed": false,
     "input": [
      "reversed_traj = trajs.reverse(time_column='t', inplace=False)\n",
      "reversed_traj['t'].head()"
     ],
     "language": "python",
     "metadata": {},
     "outputs": [
      {
       "metadata": {},
       "output_type": "pyout",
       "prompt_number": 17,
       "text": [
        "t_stamp  label\n",
        "-19      6       -19\n",
        "         5       -19\n",
        "         4       -19\n",
        "-18      6       -18\n",
        "         5       -18\n",
        "Name: t, dtype: float64"
       ]
      }
     ],
     "prompt_number": 17
    },
    {
     "cell_type": "markdown",
     "metadata": {},
     "source": [
      "Merge two trajectories together taking care to not mix labels."
     ]
    },
    {
     "cell_type": "code",
     "collapsed": false,
     "input": [
      "print(\"Original trajs labels:\", trajs.labels)\n",
      "merged_trajs = trajs.merge(trajs.copy())\n",
      "print(\"Merged trajs new labels:\", merged_trajs.labels)"
     ],
     "language": "python",
     "metadata": {},
     "outputs": [
      {
       "output_type": "stream",
       "stream": "stdout",
       "text": [
        "Original trajs labels: [0 1 2 3 4 5 6]\n",
        "Merged trajs new labels: [ 0  1  2  7  8  9  3 10  4 11  5 12  6 13]\n"
       ]
      }
     ],
     "prompt_number": 84
    },
    {
     "cell_type": "markdown",
     "metadata": {},
     "source": [
      "Relabel trajectories from zero. Note that it will also sort labels order."
     ]
    },
    {
     "cell_type": "code",
     "collapsed": false,
     "input": [
      "print(\"Original trajs labels:\", merged_trajs.labels)\n",
      "relabeled_trajs = merged_trajs.relabel_fromzero()\n",
      "print(\"Relabeled trajs labels:\", relabeled_trajs.labels)"
     ],
     "language": "python",
     "metadata": {},
     "outputs": [
      {
       "output_type": "stream",
       "stream": "stdout",
       "text": [
        "Original trajs labels: [ 0  1  2  7  8  9  3 10  4 11  5 12  6 13]\n",
        "Relabeled trajs labels: [ 0  1  2  3  4  5  6  7  8  9 10 11 12 13]\n"
       ]
      }
     ],
     "prompt_number": 85
    },
    {
     "cell_type": "markdown",
     "metadata": {},
     "source": [
      "`time_interpolate()` can \"fill\" holes in your dataset. For example if you have trajs with a missing timepoint, this method will try to \"guess\" the value of the missing timepoint."
     ]
    },
    {
     "cell_type": "code",
     "collapsed": false,
     "input": [
      "# t = 1 is missing here\n",
      "missing_trajs = Trajectories(trajs[trajs['t'] != 1])\n",
      "missing_trajs.head(10)"
     ],
     "language": "python",
     "metadata": {},
     "outputs": [
      {
       "html": [
        "<div style=\"max-height:1000px;max-width:1500px;overflow:auto;\">\n",
        "<table border=\"1\" class=\"dataframe\">\n",
        "  <thead>\n",
        "    <tr style=\"text-align: right;\">\n",
        "      <th></th>\n",
        "      <th></th>\n",
        "      <th>x</th>\n",
        "      <th>y</th>\n",
        "      <th>z</th>\n",
        "      <th>true_label</th>\n",
        "      <th>t</th>\n",
        "    </tr>\n",
        "    <tr>\n",
        "      <th>t_stamp</th>\n",
        "      <th>label</th>\n",
        "      <th></th>\n",
        "      <th></th>\n",
        "      <th></th>\n",
        "      <th></th>\n",
        "      <th></th>\n",
        "    </tr>\n",
        "  </thead>\n",
        "  <tbody>\n",
        "    <tr>\n",
        "      <th rowspan=\"3\" valign=\"top\">0</th>\n",
        "      <th>0</th>\n",
        "      <td>-15.425890</td>\n",
        "      <td>  3.604392</td>\n",
        "      <td> -9.723257</td>\n",
        "      <td> 0</td>\n",
        "      <td> 0</td>\n",
        "    </tr>\n",
        "    <tr>\n",
        "      <th>1</th>\n",
        "      <td> -0.419929</td>\n",
        "      <td> 17.429072</td>\n",
        "      <td> 10.077393</td>\n",
        "      <td> 1</td>\n",
        "      <td> 0</td>\n",
        "    </tr>\n",
        "    <tr>\n",
        "      <th>2</th>\n",
        "      <td>-18.238856</td>\n",
        "      <td>  7.356460</td>\n",
        "      <td>  1.138426</td>\n",
        "      <td> 2</td>\n",
        "      <td> 0</td>\n",
        "    </tr>\n",
        "    <tr>\n",
        "      <th rowspan=\"3\" valign=\"top\">2</th>\n",
        "      <th>0</th>\n",
        "      <td>-13.063704</td>\n",
        "      <td>  2.757048</td>\n",
        "      <td> -8.495509</td>\n",
        "      <td> 0</td>\n",
        "      <td> 2</td>\n",
        "    </tr>\n",
        "    <tr>\n",
        "      <th>1</th>\n",
        "      <td> -1.044417</td>\n",
        "      <td> 13.936055</td>\n",
        "      <td>  9.996726</td>\n",
        "      <td> 1</td>\n",
        "      <td> 2</td>\n",
        "    </tr>\n",
        "    <tr>\n",
        "      <th>2</th>\n",
        "      <td>-19.295839</td>\n",
        "      <td>  9.188858</td>\n",
        "      <td>  3.061227</td>\n",
        "      <td> 2</td>\n",
        "      <td> 2</td>\n",
        "    </tr>\n",
        "    <tr>\n",
        "      <th rowspan=\"3\" valign=\"top\">3</th>\n",
        "      <th>0</th>\n",
        "      <td>-13.679896</td>\n",
        "      <td>  3.493356</td>\n",
        "      <td> -9.183014</td>\n",
        "      <td> 0</td>\n",
        "      <td> 3</td>\n",
        "    </tr>\n",
        "    <tr>\n",
        "      <th>1</th>\n",
        "      <td> -0.571843</td>\n",
        "      <td> 15.075394</td>\n",
        "      <td> 10.780867</td>\n",
        "      <td> 1</td>\n",
        "      <td> 3</td>\n",
        "    </tr>\n",
        "    <tr>\n",
        "      <th>2</th>\n",
        "      <td>-19.159403</td>\n",
        "      <td>  9.857153</td>\n",
        "      <td>  2.096635</td>\n",
        "      <td> 2</td>\n",
        "      <td> 3</td>\n",
        "    </tr>\n",
        "    <tr>\n",
        "      <th>4</th>\n",
        "      <th>1</th>\n",
        "      <td>  0.545050</td>\n",
        "      <td> 14.743210</td>\n",
        "      <td> 12.023129</td>\n",
        "      <td> 1</td>\n",
        "      <td> 4</td>\n",
        "    </tr>\n",
        "  </tbody>\n",
        "</table>\n",
        "</div>"
       ],
       "metadata": {},
       "output_type": "pyout",
       "prompt_number": 20,
       "text": [
        "                       x          y          z  true_label  t\n",
        "t_stamp label                                                \n",
        "0       0     -15.425890   3.604392  -9.723257           0  0\n",
        "        1      -0.419929  17.429072  10.077393           1  0\n",
        "        2     -18.238856   7.356460   1.138426           2  0\n",
        "2       0     -13.063704   2.757048  -8.495509           0  2\n",
        "        1      -1.044417  13.936055   9.996726           1  2\n",
        "        2     -19.295839   9.188858   3.061227           2  2\n",
        "3       0     -13.679896   3.493356  -9.183014           0  3\n",
        "        1      -0.571843  15.075394  10.780867           1  3\n",
        "        2     -19.159403   9.857153   2.096635           2  3\n",
        "4       1       0.545050  14.743210  12.023129           1  4"
       ]
      }
     ],
     "prompt_number": 20
    },
    {
     "cell_type": "markdown",
     "metadata": {},
     "source": [
      "The method return a new `Trajectories` with interpolated value for missing timepoint. `v_*` values are speeds and `a_*` values are accelerations."
     ]
    },
    {
     "cell_type": "code",
     "collapsed": false,
     "input": [
      "# t = 1 has been \"guessed\"\n",
      "interpolated_trajs = missing_trajs.time_interpolate()\n",
      "interpolated_trajs.head(10)"
     ],
     "language": "python",
     "metadata": {},
     "outputs": [
      {
       "html": [
        "<div style=\"max-height:1000px;max-width:1500px;overflow:auto;\">\n",
        "<table border=\"1\" class=\"dataframe\">\n",
        "  <thead>\n",
        "    <tr style=\"text-align: right;\">\n",
        "      <th></th>\n",
        "      <th></th>\n",
        "      <th>t</th>\n",
        "      <th>x</th>\n",
        "      <th>v_x</th>\n",
        "      <th>a_x</th>\n",
        "      <th>y</th>\n",
        "      <th>v_y</th>\n",
        "      <th>a_y</th>\n",
        "      <th>z</th>\n",
        "      <th>v_z</th>\n",
        "      <th>a_z</th>\n",
        "    </tr>\n",
        "    <tr>\n",
        "      <th>t_stamp</th>\n",
        "      <th>label</th>\n",
        "      <th></th>\n",
        "      <th></th>\n",
        "      <th></th>\n",
        "      <th></th>\n",
        "      <th></th>\n",
        "      <th></th>\n",
        "      <th></th>\n",
        "      <th></th>\n",
        "      <th></th>\n",
        "      <th></th>\n",
        "    </tr>\n",
        "  </thead>\n",
        "  <tbody>\n",
        "    <tr>\n",
        "      <th rowspan=\"3\" valign=\"top\">0</th>\n",
        "      <th>0</th>\n",
        "      <td> 0</td>\n",
        "      <td>-15.425890</td>\n",
        "      <td> 1.181093</td>\n",
        "      <td>      NaN</td>\n",
        "      <td>  3.604392</td>\n",
        "      <td>-0.423672</td>\n",
        "      <td>      NaN</td>\n",
        "      <td> -9.723257</td>\n",
        "      <td> 0.613874</td>\n",
        "      <td>      NaN</td>\n",
        "    </tr>\n",
        "    <tr>\n",
        "      <th>1</th>\n",
        "      <td> 0</td>\n",
        "      <td> -0.419929</td>\n",
        "      <td>-0.475633</td>\n",
        "      <td>-0.076494</td>\n",
        "      <td> 17.429072</td>\n",
        "      <td>-7.163935</td>\n",
        "      <td> 7.746446</td>\n",
        "      <td> 10.077393</td>\n",
        "      <td>-0.273943</td>\n",
        "      <td> 0.022917</td>\n",
        "    </tr>\n",
        "    <tr>\n",
        "      <th>2</th>\n",
        "      <td> 0</td>\n",
        "      <td>-18.238856</td>\n",
        "      <td>-1.830310</td>\n",
        "      <td> 1.874175</td>\n",
        "      <td>  7.356460</td>\n",
        "      <td>-0.272637</td>\n",
        "      <td> 2.091574</td>\n",
        "      <td>  1.138426</td>\n",
        "      <td> 3.899341</td>\n",
        "      <td>-4.040572</td>\n",
        "    </tr>\n",
        "    <tr>\n",
        "      <th rowspan=\"3\" valign=\"top\">1</th>\n",
        "      <th>0</th>\n",
        "      <td> 1</td>\n",
        "      <td>-14.244797</td>\n",
        "      <td> 1.181093</td>\n",
        "      <td>      NaN</td>\n",
        "      <td>  3.180720</td>\n",
        "      <td>-0.423672</td>\n",
        "      <td>      NaN</td>\n",
        "      <td> -9.109383</td>\n",
        "      <td> 0.613874</td>\n",
        "      <td>      NaN</td>\n",
        "    </tr>\n",
        "    <tr>\n",
        "      <th>1</th>\n",
        "      <td> 1</td>\n",
        "      <td> -0.873838</td>\n",
        "      <td>-0.372215</td>\n",
        "      <td> 0.283330</td>\n",
        "      <td> 13.556105</td>\n",
        "      <td>-1.164254</td>\n",
        "      <td> 4.252917</td>\n",
        "      <td>  9.867582</td>\n",
        "      <td>-0.093007</td>\n",
        "      <td> 0.338956</td>\n",
        "    </tr>\n",
        "    <tr>\n",
        "      <th>2</th>\n",
        "      <td> 1</td>\n",
        "      <td>-19.275168</td>\n",
        "      <td>-0.385402</td>\n",
        "      <td> 1.015641</td>\n",
        "      <td>  7.903925</td>\n",
        "      <td> 1.141883</td>\n",
        "      <td> 0.737468</td>\n",
        "      <td>  3.293139</td>\n",
        "      <td> 0.685742</td>\n",
        "      <td>-2.386626</td>\n",
        "    </tr>\n",
        "    <tr>\n",
        "      <th rowspan=\"3\" valign=\"top\">2</th>\n",
        "      <th>0</th>\n",
        "      <td> 2</td>\n",
        "      <td>-13.063704</td>\n",
        "      <td>-0.616192</td>\n",
        "      <td>      NaN</td>\n",
        "      <td>  2.757048</td>\n",
        "      <td> 0.736307</td>\n",
        "      <td>      NaN</td>\n",
        "      <td> -8.495509</td>\n",
        "      <td>-0.687505</td>\n",
        "      <td>      NaN</td>\n",
        "    </tr>\n",
        "    <tr>\n",
        "      <th>1</th>\n",
        "      <td> 2</td>\n",
        "      <td> -1.044417</td>\n",
        "      <td> 0.091027</td>\n",
        "      <td> 0.643154</td>\n",
        "      <td> 13.936055</td>\n",
        "      <td> 1.341899</td>\n",
        "      <td> 0.759388</td>\n",
        "      <td>  9.996726</td>\n",
        "      <td> 0.403969</td>\n",
        "      <td> 0.654996</td>\n",
        "    </tr>\n",
        "    <tr>\n",
        "      <th>2</th>\n",
        "      <td> 2</td>\n",
        "      <td>-19.295839</td>\n",
        "      <td> 0.200972</td>\n",
        "      <td> 0.157107</td>\n",
        "      <td>  9.188858</td>\n",
        "      <td> 1.202298</td>\n",
        "      <td>-0.616639</td>\n",
        "      <td>  3.061227</td>\n",
        "      <td>-0.873910</td>\n",
        "      <td>-0.732679</td>\n",
        "    </tr>\n",
        "    <tr>\n",
        "      <th>3</th>\n",
        "      <th>0</th>\n",
        "      <td> 3</td>\n",
        "      <td>-13.679896</td>\n",
        "      <td>-0.616192</td>\n",
        "      <td>      NaN</td>\n",
        "      <td>  3.493356</td>\n",
        "      <td> 0.736307</td>\n",
        "      <td>      NaN</td>\n",
        "      <td> -9.183014</td>\n",
        "      <td>-0.687505</td>\n",
        "      <td>      NaN</td>\n",
        "    </tr>\n",
        "  </tbody>\n",
        "</table>\n",
        "</div>"
       ],
       "metadata": {},
       "output_type": "pyout",
       "prompt_number": 21,
       "text": [
        "               t          x       v_x       a_x          y       v_y  \\\n",
        "t_stamp label                                                          \n",
        "0       0      0 -15.425890  1.181093       NaN   3.604392 -0.423672   \n",
        "        1      0  -0.419929 -0.475633 -0.076494  17.429072 -7.163935   \n",
        "        2      0 -18.238856 -1.830310  1.874175   7.356460 -0.272637   \n",
        "1       0      1 -14.244797  1.181093       NaN   3.180720 -0.423672   \n",
        "        1      1  -0.873838 -0.372215  0.283330  13.556105 -1.164254   \n",
        "        2      1 -19.275168 -0.385402  1.015641   7.903925  1.141883   \n",
        "2       0      2 -13.063704 -0.616192       NaN   2.757048  0.736307   \n",
        "        1      2  -1.044417  0.091027  0.643154  13.936055  1.341899   \n",
        "        2      2 -19.295839  0.200972  0.157107   9.188858  1.202298   \n",
        "3       0      3 -13.679896 -0.616192       NaN   3.493356  0.736307   \n",
        "\n",
        "                    a_y          z       v_z       a_z  \n",
        "t_stamp label                                           \n",
        "0       0           NaN  -9.723257  0.613874       NaN  \n",
        "        1      7.746446  10.077393 -0.273943  0.022917  \n",
        "        2      2.091574   1.138426  3.899341 -4.040572  \n",
        "1       0           NaN  -9.109383  0.613874       NaN  \n",
        "        1      4.252917   9.867582 -0.093007  0.338956  \n",
        "        2      0.737468   3.293139  0.685742 -2.386626  \n",
        "2       0           NaN  -8.495509 -0.687505       NaN  \n",
        "        1      0.759388   9.996726  0.403969  0.654996  \n",
        "        2     -0.616639   3.061227 -0.873910 -0.732679  \n",
        "3       0           NaN  -9.183014 -0.687505       NaN  "
       ]
      }
     ],
     "prompt_number": 21
    },
    {
     "cell_type": "markdown",
     "metadata": {},
     "source": [
      "See also:\n",
      "\n",
      "- `relabel()`\n",
      "- `scale()`\n",
      "- `project()` : project each spots on a line specified by two spots.\n",
      "\n",
      "See [`Trajectories` API](http://scikit-tracker.org/dev/api/sktracker.trajectories.html#sktracker.trajectories.Trajectories) for more informations."
     ]
    },
    {
     "cell_type": "markdown",
     "metadata": {},
     "source": []
    },
    {
     "cell_type": "markdown",
     "metadata": {},
     "source": [
      "### Local modifications\n",
      "\n",
      "Let's see how to edit trajectories details. Almost in all methods, spots are identified with a tuple `(t_stamp, label)` and trajectory by an integer `label`."
     ]
    },
    {
     "cell_type": "markdown",
     "metadata": {},
     "source": [
      "Remove a spot (can be a list of spots)"
     ]
    },
    {
     "cell_type": "code",
     "collapsed": false,
     "input": [
      "trajs.head()"
     ],
     "language": "python",
     "metadata": {},
     "outputs": [
      {
       "html": [
        "<div style=\"max-height:1000px;max-width:1500px;overflow:auto;\">\n",
        "<table border=\"1\" class=\"dataframe\">\n",
        "  <thead>\n",
        "    <tr style=\"text-align: right;\">\n",
        "      <th></th>\n",
        "      <th></th>\n",
        "      <th>x</th>\n",
        "      <th>y</th>\n",
        "      <th>z</th>\n",
        "      <th>true_label</th>\n",
        "      <th>t</th>\n",
        "    </tr>\n",
        "    <tr>\n",
        "      <th>t_stamp</th>\n",
        "      <th>label</th>\n",
        "      <th></th>\n",
        "      <th></th>\n",
        "      <th></th>\n",
        "      <th></th>\n",
        "      <th></th>\n",
        "    </tr>\n",
        "  </thead>\n",
        "  <tbody>\n",
        "    <tr>\n",
        "      <th rowspan=\"3\" valign=\"top\">0</th>\n",
        "      <th>0</th>\n",
        "      <td>-15.425890</td>\n",
        "      <td>  3.604392</td>\n",
        "      <td> -9.723257</td>\n",
        "      <td> 0</td>\n",
        "      <td> 0</td>\n",
        "    </tr>\n",
        "    <tr>\n",
        "      <th>1</th>\n",
        "      <td> -0.419929</td>\n",
        "      <td> 17.429072</td>\n",
        "      <td> 10.077393</td>\n",
        "      <td> 1</td>\n",
        "      <td> 0</td>\n",
        "    </tr>\n",
        "    <tr>\n",
        "      <th>2</th>\n",
        "      <td>-18.238856</td>\n",
        "      <td>  7.356460</td>\n",
        "      <td>  1.138426</td>\n",
        "      <td> 2</td>\n",
        "      <td> 0</td>\n",
        "    </tr>\n",
        "    <tr>\n",
        "      <th rowspan=\"2\" valign=\"top\">1</th>\n",
        "      <th>0</th>\n",
        "      <td>-13.126613</td>\n",
        "      <td>  2.122316</td>\n",
        "      <td> -9.375269</td>\n",
        "      <td> 0</td>\n",
        "      <td> 1</td>\n",
        "    </tr>\n",
        "    <tr>\n",
        "      <th>1</th>\n",
        "      <td> -1.217757</td>\n",
        "      <td> 15.554279</td>\n",
        "      <td> 10.444372</td>\n",
        "      <td> 1</td>\n",
        "      <td> 1</td>\n",
        "    </tr>\n",
        "  </tbody>\n",
        "</table>\n",
        "</div>"
       ],
       "metadata": {},
       "output_type": "pyout",
       "prompt_number": 22,
       "text": [
        "                       x          y          z  true_label  t\n",
        "t_stamp label                                                \n",
        "0       0     -15.425890   3.604392  -9.723257           0  0\n",
        "        1      -0.419929  17.429072  10.077393           1  0\n",
        "        2     -18.238856   7.356460   1.138426           2  0\n",
        "1       0     -13.126613   2.122316  -9.375269           0  1\n",
        "        1      -1.217757  15.554279  10.444372           1  1"
       ]
      }
     ],
     "prompt_number": 22
    },
    {
     "cell_type": "code",
     "collapsed": false,
     "input": [
      "trajs.remove_spots((0, 2), inplace=False).head()"
     ],
     "language": "python",
     "metadata": {},
     "outputs": [
      {
       "html": [
        "<div style=\"max-height:1000px;max-width:1500px;overflow:auto;\">\n",
        "<table border=\"1\" class=\"dataframe\">\n",
        "  <thead>\n",
        "    <tr style=\"text-align: right;\">\n",
        "      <th></th>\n",
        "      <th></th>\n",
        "      <th>x</th>\n",
        "      <th>y</th>\n",
        "      <th>z</th>\n",
        "      <th>true_label</th>\n",
        "      <th>t</th>\n",
        "    </tr>\n",
        "    <tr>\n",
        "      <th>t_stamp</th>\n",
        "      <th>label</th>\n",
        "      <th></th>\n",
        "      <th></th>\n",
        "      <th></th>\n",
        "      <th></th>\n",
        "      <th></th>\n",
        "    </tr>\n",
        "  </thead>\n",
        "  <tbody>\n",
        "    <tr>\n",
        "      <th rowspan=\"2\" valign=\"top\">0</th>\n",
        "      <th>0</th>\n",
        "      <td>-15.425890</td>\n",
        "      <td>  3.604392</td>\n",
        "      <td> -9.723257</td>\n",
        "      <td> 0</td>\n",
        "      <td> 0</td>\n",
        "    </tr>\n",
        "    <tr>\n",
        "      <th>1</th>\n",
        "      <td> -0.419929</td>\n",
        "      <td> 17.429072</td>\n",
        "      <td> 10.077393</td>\n",
        "      <td> 1</td>\n",
        "      <td> 0</td>\n",
        "    </tr>\n",
        "    <tr>\n",
        "      <th rowspan=\"3\" valign=\"top\">1</th>\n",
        "      <th>0</th>\n",
        "      <td>-13.126613</td>\n",
        "      <td>  2.122316</td>\n",
        "      <td> -9.375269</td>\n",
        "      <td> 0</td>\n",
        "      <td> 1</td>\n",
        "    </tr>\n",
        "    <tr>\n",
        "      <th>1</th>\n",
        "      <td> -1.217757</td>\n",
        "      <td> 15.554279</td>\n",
        "      <td> 10.444372</td>\n",
        "      <td> 1</td>\n",
        "      <td> 1</td>\n",
        "    </tr>\n",
        "    <tr>\n",
        "      <th>2</th>\n",
        "      <td>-18.621760</td>\n",
        "      <td>  9.218586</td>\n",
        "      <td>  2.633193</td>\n",
        "      <td> 2</td>\n",
        "      <td> 1</td>\n",
        "    </tr>\n",
        "  </tbody>\n",
        "</table>\n",
        "</div>"
       ],
       "metadata": {},
       "output_type": "pyout",
       "prompt_number": 23,
       "text": [
        "                       x          y          z  true_label  t\n",
        "t_stamp label                                                \n",
        "0       0     -15.425890   3.604392  -9.723257           0  0\n",
        "        1      -0.419929  17.429072  10.077393           1  0\n",
        "1       0     -13.126613   2.122316  -9.375269           0  1\n",
        "        1      -1.217757  15.554279  10.444372           1  1\n",
        "        2     -18.621760   9.218586   2.633193           2  1"
       ]
      }
     ],
     "prompt_number": 23
    },
    {
     "cell_type": "markdown",
     "metadata": {},
     "source": [
      "Remove a segment/trajectory"
     ]
    },
    {
     "cell_type": "code",
     "collapsed": false,
     "input": [
      "trajs.labels"
     ],
     "language": "python",
     "metadata": {},
     "outputs": [
      {
       "metadata": {},
       "output_type": "pyout",
       "prompt_number": 24,
       "text": [
        "array([0, 1, 2, 3, 4, 5, 6])"
       ]
      }
     ],
     "prompt_number": 24
    },
    {
     "cell_type": "code",
     "collapsed": false,
     "input": [
      "trajs.remove_segments(3).labels"
     ],
     "language": "python",
     "metadata": {},
     "outputs": [
      {
       "metadata": {},
       "output_type": "pyout",
       "prompt_number": 25,
       "text": [
        "array([0, 1, 2, 4, 5, 6])"
       ]
      }
     ],
     "prompt_number": 25
    },
    {
     "cell_type": "markdown",
     "metadata": {},
     "source": [
      "Merge two segments"
     ]
    },
    {
     "cell_type": "code",
     "collapsed": false,
     "input": [
      "print(\"Size of segment #0 :\", len(trajs.get_segments()[0]))\n",
      "print(\"Size of segment #3 :\", len(trajs.get_segments()[3]))\n",
      "\n",
      "merged_trajs = trajs.merge_segments((0, 3), inplace=False)\n",
      "\n",
      "print(\"Size of segment #0 (merged with #3):\", len(merged_trajs.get_segments()[0]))"
     ],
     "language": "python",
     "metadata": {},
     "outputs": [
      {
       "output_type": "stream",
       "stream": "stdout",
       "text": [
        "Size of segment #0 : 4\n",
        "Size of segment #3 : 12\n",
        "Size of segment #0 (merged with #3):"
       ]
      },
      {
       "output_type": "stream",
       "stream": "stdout",
       "text": [
        " 16\n"
       ]
      }
     ],
     "prompt_number": 61
    },
    {
     "cell_type": "markdown",
     "metadata": {},
     "source": [
      "Cut a segment"
     ]
    },
    {
     "cell_type": "code",
     "collapsed": false,
     "input": [
      "print(\"Size of segment #4:\", len(trajs.get_segments()[4]))\n",
      "\n",
      "cut_trajs = trajs.cut_segments((13, 4), inplace=False)\n",
      "\n",
      "print(\"Size of segment #4 :\", len(cut_trajs.get_segments()[4]))\n",
      "print(\"Size of segment #7 (new segment after cut) :\", len(cut_trajs.get_segments()[7]))"
     ],
     "language": "python",
     "metadata": {},
     "outputs": [
      {
       "output_type": "stream",
       "stream": "stdout",
       "text": [
        "Size of segment #4: 13\n",
        "Size of segment #4 : 7\n",
        "Size of segment #7 (new segment after cut) : 6\n"
       ]
      }
     ],
     "prompt_number": 77
    },
    {
     "cell_type": "markdown",
     "metadata": {},
     "source": [
      "Duplicate a segment"
     ]
    },
    {
     "cell_type": "code",
     "collapsed": false,
     "input": [
      "dupli_trajs = trajs.duplicate_segments(4)\n",
      "\n",
      "# Check wether #4 and #7 (duplicated) are the same\n",
      "np.all(dupli_trajs.get_segments()[4].values == dupli_trajs.get_segments()[7].values)"
     ],
     "language": "python",
     "metadata": {},
     "outputs": [
      {
       "metadata": {},
       "output_type": "pyout",
       "prompt_number": 28,
       "text": [
        "True"
       ]
      }
     ],
     "prompt_number": 28
    },
    {
     "cell_type": "markdown",
     "metadata": {},
     "source": [
      "Because hard coded trajectories modifications can take long time and be boring, we designed a smart GUI that allows all kind of local trajectory editions such as remove, duplicate, merge and so forth.\n",
      "\n",
      "For more infos please go [here](http://scikit-tracker.org/dev/basics/ui.html)."
     ]
    },
    {
     "cell_type": "markdown",
     "metadata": {},
     "source": [
      "## Measurements on trajectories"
     ]
    },
    {
     "cell_type": "code",
     "collapsed": false,
     "input": [
      "from sktracker import data\n",
      "from sktracker.trajectories import Trajectories\n",
      "trajs = Trajectories(data.brownian_trajs_df())"
     ],
     "language": "python",
     "metadata": {},
     "outputs": [],
     "prompt_number": 2
    },
    {
     "cell_type": "markdown",
     "metadata": {},
     "source": []
    },
    {
     "cell_type": "markdown",
     "metadata": {},
     "source": [
      "Get the differences between each consecutive timepoints for a same trajectory (label)."
     ]
    },
    {
     "cell_type": "code",
     "collapsed": false,
     "input": [
      "trajs.get_diff().head(15)"
     ],
     "language": "python",
     "metadata": {},
     "outputs": [
      {
       "html": [
        "<div style=\"max-height:1000px;max-width:1500px;overflow:auto;\">\n",
        "<table border=\"1\" class=\"dataframe\">\n",
        "  <thead>\n",
        "    <tr style=\"text-align: right;\">\n",
        "      <th></th>\n",
        "      <th></th>\n",
        "      <th>t</th>\n",
        "      <th>x</th>\n",
        "      <th>y</th>\n",
        "      <th>z</th>\n",
        "    </tr>\n",
        "    <tr>\n",
        "      <th>t_stamp</th>\n",
        "      <th>label</th>\n",
        "      <th></th>\n",
        "      <th></th>\n",
        "      <th></th>\n",
        "      <th></th>\n",
        "    </tr>\n",
        "  </thead>\n",
        "  <tbody>\n",
        "    <tr>\n",
        "      <th rowspan=\"5\" valign=\"top\">0</th>\n",
        "      <th>0</th>\n",
        "      <td>NaN</td>\n",
        "      <td>       NaN</td>\n",
        "      <td>       NaN</td>\n",
        "      <td>       NaN</td>\n",
        "    </tr>\n",
        "    <tr>\n",
        "      <th>1</th>\n",
        "      <td>NaN</td>\n",
        "      <td>       NaN</td>\n",
        "      <td>       NaN</td>\n",
        "      <td>       NaN</td>\n",
        "    </tr>\n",
        "    <tr>\n",
        "      <th>2</th>\n",
        "      <td>NaN</td>\n",
        "      <td>       NaN</td>\n",
        "      <td>       NaN</td>\n",
        "      <td>       NaN</td>\n",
        "    </tr>\n",
        "    <tr>\n",
        "      <th>3</th>\n",
        "      <td>NaN</td>\n",
        "      <td>       NaN</td>\n",
        "      <td>       NaN</td>\n",
        "      <td>       NaN</td>\n",
        "    </tr>\n",
        "    <tr>\n",
        "      <th>4</th>\n",
        "      <td>NaN</td>\n",
        "      <td>       NaN</td>\n",
        "      <td>       NaN</td>\n",
        "      <td>       NaN</td>\n",
        "    </tr>\n",
        "    <tr>\n",
        "      <th rowspan=\"5\" valign=\"top\">1</th>\n",
        "      <th>0</th>\n",
        "      <td>  1</td>\n",
        "      <td> 20.307078</td>\n",
        "      <td> -8.108166</td>\n",
        "      <td>-19.490299</td>\n",
        "    </tr>\n",
        "    <tr>\n",
        "      <th>1</th>\n",
        "      <td>  1</td>\n",
        "      <td> 13.827910</td>\n",
        "      <td> 29.331007</td>\n",
        "      <td>-23.354528</td>\n",
        "    </tr>\n",
        "    <tr>\n",
        "      <th>2</th>\n",
        "      <td>  1</td>\n",
        "      <td>  3.845230</td>\n",
        "      <td> 14.221569</td>\n",
        "      <td> 25.614719</td>\n",
        "    </tr>\n",
        "    <tr>\n",
        "      <th>3</th>\n",
        "      <td>  1</td>\n",
        "      <td>-30.136494</td>\n",
        "      <td>-17.332147</td>\n",
        "      <td>  8.584708</td>\n",
        "    </tr>\n",
        "    <tr>\n",
        "      <th>4</th>\n",
        "      <td>  1</td>\n",
        "      <td> -5.692935</td>\n",
        "      <td>-17.923296</td>\n",
        "      <td>  7.438539</td>\n",
        "    </tr>\n",
        "    <tr>\n",
        "      <th rowspan=\"5\" valign=\"top\">2</th>\n",
        "      <th>0</th>\n",
        "      <td>  1</td>\n",
        "      <td>  5.629275</td>\n",
        "      <td> 11.364669</td>\n",
        "      <td>-14.749773</td>\n",
        "    </tr>\n",
        "    <tr>\n",
        "      <th>1</th>\n",
        "      <td>  1</td>\n",
        "      <td>-23.926437</td>\n",
        "      <td> -2.618648</td>\n",
        "      <td> 35.080733</td>\n",
        "    </tr>\n",
        "    <tr>\n",
        "      <th>2</th>\n",
        "      <td>  1</td>\n",
        "      <td> -3.746919</td>\n",
        "      <td>-15.052938</td>\n",
        "      <td>-26.025025</td>\n",
        "    </tr>\n",
        "    <tr>\n",
        "      <th>3</th>\n",
        "      <td>  1</td>\n",
        "      <td> 23.240229</td>\n",
        "      <td>  5.534567</td>\n",
        "      <td>  4.645337</td>\n",
        "    </tr>\n",
        "    <tr>\n",
        "      <th>4</th>\n",
        "      <td>  1</td>\n",
        "      <td>  0.634655</td>\n",
        "      <td> -0.002195</td>\n",
        "      <td>  0.283652</td>\n",
        "    </tr>\n",
        "  </tbody>\n",
        "</table>\n",
        "</div>"
       ],
       "metadata": {},
       "output_type": "pyout",
       "prompt_number": 30,
       "text": [
        "                t          x          y          z\n",
        "t_stamp label                                     \n",
        "0       0     NaN        NaN        NaN        NaN\n",
        "        1     NaN        NaN        NaN        NaN\n",
        "        2     NaN        NaN        NaN        NaN\n",
        "        3     NaN        NaN        NaN        NaN\n",
        "        4     NaN        NaN        NaN        NaN\n",
        "1       0       1  20.307078  -8.108166 -19.490299\n",
        "        1       1  13.827910  29.331007 -23.354528\n",
        "        2       1   3.845230  14.221569  25.614719\n",
        "        3       1 -30.136494 -17.332147   8.584708\n",
        "        4       1  -5.692935 -17.923296   7.438539\n",
        "2       0       1   5.629275  11.364669 -14.749773\n",
        "        1       1 -23.926437  -2.618648  35.080733\n",
        "        2       1  -3.746919 -15.052938 -26.025025\n",
        "        3       1  23.240229   5.534567   4.645337\n",
        "        4       1   0.634655  -0.002195   0.283652"
       ]
      }
     ],
     "prompt_number": 30
    },
    {
     "cell_type": "markdown",
     "metadata": {},
     "source": []
    },
    {
     "cell_type": "markdown",
     "metadata": {},
     "source": [
      "Get the instantaneous speeds between each consecutive timepoints for a same trajectory (label)."
     ]
    },
    {
     "cell_type": "code",
     "collapsed": false,
     "input": [
      "trajs.get_speeds().head(15)"
     ],
     "language": "python",
     "metadata": {},
     "outputs": [
      {
       "metadata": {},
       "output_type": "pyout",
       "prompt_number": 31,
       "text": [
        "t_stamp  label\n",
        "0        0                NaN\n",
        "         1                NaN\n",
        "         2                NaN\n",
        "         3                NaN\n",
        "         4                NaN\n",
        "1        0         857.991535\n",
        "         1        1596.953075\n",
        "         2         873.152678\n",
        "         3        1282.308817\n",
        "         4         408.985890\n",
        "2        0         378.400237\n",
        "         1        1809.989515\n",
        "         2         917.932277\n",
        "         3         592.318817\n",
        "         4           0.483250\n",
        "dtype: float64"
       ]
      }
     ],
     "prompt_number": 31
    },
    {
     "cell_type": "code",
     "collapsed": false,
     "input": [
      "# Run this cell first.\n",
      "%load_ext autoreload\n",
      "%autoreload 2"
     ],
     "language": "python",
     "metadata": {},
     "outputs": [],
     "prompt_number": 2
    }
   ],
   "metadata": {}
  }
 ]
}