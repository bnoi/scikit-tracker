{
 "metadata": {
  "name": "",
  "signature": "sha256:9f3c2675c49ce496b11e4095d5e0a7e9132c1e31b50593a26367fde8c5d0b2de"
 },
 "nbformat": 3,
 "nbformat_minor": 0,
 "worksheets": [
  {
   "cells": [
    {
     "cell_type": "markdown",
     "metadata": {},
     "source": [
      "# Representation of trajectories"
     ]
    },
    {
     "cell_type": "markdown",
     "metadata": {},
     "source": [
      "`sktracker.trajectories.Trajectories` is probably the most important class in `sktracker` as it represents detected objects and links between them. `Trajectories` is a subclass of `pandas.DataFrame` which provides convenient methods.\n",
      "\n",
      "A `Trajectories` object consists of several single trajectory. Each row contains an **object** which has several features (columns) and two integer as index. The first integer is a time stamp `t_stamp` and the second one is a `label`. Objects from the same `label` belong to the same trajectory.\n",
      "\n",
      "Be aware that `t_stamp` are time index and does not represent time in second or minute. Time poisition (in second or minute) can be stored as object's features in columns."
     ]
    },
    {
     "cell_type": "markdown",
     "metadata": {},
     "source": [
      "## Create trajectories\n",
      "All you need to create a `Trajectories` object is a `pandas.DataFrame`. "
     ]
    },
    {
     "cell_type": "code",
     "collapsed": false,
     "input": [],
     "language": "python",
     "metadata": {},
     "outputs": [],
     "prompt_number": 2
    },
    {
     "cell_type": "code",
     "collapsed": false,
     "input": [
      "import pandas as pd\n",
      "import numpy as np\n",
      "\n",
      "trajs = pd.DataFrame(np.random.random((30, 3)), columns=['x', 'y', 'z'])\n",
      "trajs['t_stamp'] = np.sort(np.random.choice(range(10), (len(trajs),)))\n",
      "trajs['label'] = list(range(len(trajs)))\n",
      "trajs['t'] = trajs['t_stamp'] * 60  # t are in seconds for example\n",
      "trajs.set_index(['t_stamp', 'label'], inplace=True)\n",
      "trajs.sort_index(inplace=True)\n",
      "trajs.head()"
     ],
     "language": "python",
     "metadata": {},
     "outputs": [
      {
       "html": [
        "<div style=\"max-height:1000px;max-width:1500px;overflow:auto;\">\n",
        "<table border=\"1\" class=\"dataframe\">\n",
        "  <thead>\n",
        "    <tr style=\"text-align: right;\">\n",
        "      <th></th>\n",
        "      <th></th>\n",
        "      <th>x</th>\n",
        "      <th>y</th>\n",
        "      <th>z</th>\n",
        "      <th>t</th>\n",
        "    </tr>\n",
        "    <tr>\n",
        "      <th>t_stamp</th>\n",
        "      <th>label</th>\n",
        "      <th></th>\n",
        "      <th></th>\n",
        "      <th></th>\n",
        "      <th></th>\n",
        "    </tr>\n",
        "  </thead>\n",
        "  <tbody>\n",
        "    <tr>\n",
        "      <th rowspan=\"3\" valign=\"top\">0</th>\n",
        "      <th>0</th>\n",
        "      <td> 0.136820</td>\n",
        "      <td> 0.052267</td>\n",
        "      <td> 0.720264</td>\n",
        "      <td>  0</td>\n",
        "    </tr>\n",
        "    <tr>\n",
        "      <th>1</th>\n",
        "      <td> 0.637322</td>\n",
        "      <td> 0.063170</td>\n",
        "      <td> 0.194157</td>\n",
        "      <td>  0</td>\n",
        "    </tr>\n",
        "    <tr>\n",
        "      <th>2</th>\n",
        "      <td> 0.545661</td>\n",
        "      <td> 0.068337</td>\n",
        "      <td> 0.491243</td>\n",
        "      <td>  0</td>\n",
        "    </tr>\n",
        "    <tr>\n",
        "      <th rowspan=\"2\" valign=\"top\">1</th>\n",
        "      <th>3</th>\n",
        "      <td> 0.533964</td>\n",
        "      <td> 0.680509</td>\n",
        "      <td> 0.065720</td>\n",
        "      <td> 60</td>\n",
        "    </tr>\n",
        "    <tr>\n",
        "      <th>4</th>\n",
        "      <td> 0.214166</td>\n",
        "      <td> 0.111218</td>\n",
        "      <td> 0.274236</td>\n",
        "      <td> 60</td>\n",
        "    </tr>\n",
        "  </tbody>\n",
        "</table>\n",
        "</div>"
       ],
       "metadata": {},
       "output_type": "pyout",
       "prompt_number": 17,
       "text": [
        "                      x         y         z   t\n",
        "t_stamp label                                  \n",
        "0       0      0.136820  0.052267  0.720264   0\n",
        "        1      0.637322  0.063170  0.194157   0\n",
        "        2      0.545661  0.068337  0.491243   0\n",
        "1       3      0.533964  0.680509  0.065720  60\n",
        "        4      0.214166  0.111218  0.274236  60"
       ]
      }
     ],
     "prompt_number": 17
    },
    {
     "cell_type": "markdown",
     "metadata": {},
     "source": [
      "## Vizualize trajectories\n",
      "## Get informations\n",
      "## Modify trajectories\n",
      "## Measurements on trajectories"
     ]
    },
    {
     "cell_type": "code",
     "collapsed": false,
     "input": [
      "# Run this cell first.\n",
      "%matplotlib inline\n",
      "%load_ext autoreload\n",
      "%autoreload 2"
     ],
     "language": "python",
     "metadata": {},
     "outputs": [],
     "prompt_number": 1
    }
   ],
   "metadata": {}
  }
 ]
}