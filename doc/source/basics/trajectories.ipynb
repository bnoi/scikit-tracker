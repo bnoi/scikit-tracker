{
 "metadata": {
  "name": "",
  "signature": "sha256:d09ee1da0f8bd90e44fc8b329d854d6a0e43f45c58bda6df948f06807db7387a"
 },
 "nbformat": 3,
 "nbformat_minor": 0,
 "worksheets": [
  {
   "cells": [
    {
     "cell_type": "heading",
     "level": 1,
     "metadata": {},
     "source": [
      "Representation of trajectories"
     ]
    },
    {
     "cell_type": "markdown",
     "metadata": {},
     "source": [
      "`sktracker.trajectories.Trajectories` is probably the most important class in `sktracker` as it represents detected objects and links between them. `Trajectories` is a subclass of `pandas.DataFrame`. Let's have a look: "
     ]
    },
    {
     "cell_type": "code",
     "collapsed": false,
     "input": [
      "# Run this cell first.\n",
      "%matplotlib qt\n",
      "%load_ext autoreload\n",
      "%autoreload 2"
     ],
     "language": "python",
     "metadata": {},
     "outputs": [],
     "prompt_number": 2
    }
   ],
   "metadata": {}
  }
 ]
}