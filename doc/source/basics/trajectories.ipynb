{
 "metadata": {
  "name": "",
  "signature": "sha256:5a4cb97d14dfdd2437109b183ec64dcd0b0f78b2b5416b46722cd12cfc3a1a07"
 },
 "nbformat": 3,
 "nbformat_minor": 0,
 "worksheets": [
  {
   "cells": [
    {
     "cell_type": "markdown",
     "metadata": {},
     "source": [
      "# Representation of trajectories"
     ]
    },
    {
     "cell_type": "markdown",
     "metadata": {},
     "source": [
      "`sktracker.trajectories.Trajectories` is probably the most important class in `sktracker` as it represents detected objects and links between them. `Trajectories` is a subclass of `pandas.DataFrame` which provides convenient methods.\n",
      "\n",
      "A `Trajectories` object consists of several single trajectory. Each row contains an **object** which has several features (columns) and two integer as index. The first integer is a time stamp `t_stamp` and the second one is a `label`. Objects from the same `label` belong to the same trajectory.\n",
      "\n",
      "Be aware that `t_stamp` are time index and does not represent time in second or minute. Time poisition (in second or minute) can be stored as object's features in columns."
     ]
    },
    {
     "cell_type": "markdown",
     "metadata": {},
     "source": [
      "## Create trajectories\n",
      "All you need to create a `Trajectories` object is a `pandas.DataFrame`. "
     ]
    },
    {
     "cell_type": "code",
     "collapsed": false,
     "input": [
      "import pandas as pd\n",
      "\n",
      "traj1 = [[0, 4, 7, 200]]"
     ],
     "language": "python",
     "metadata": {},
     "outputs": []
    },
    {
     "cell_type": "markdown",
     "metadata": {},
     "source": [
      "## Vizualize trajectories\n",
      "## Get informations\n",
      "## Modify trajectories\n",
      "## Measurements on trajectories"
     ]
    },
    {
     "cell_type": "code",
     "collapsed": false,
     "input": [
      "# Run this cell first.\n",
      "%matplotlib qt\n",
      "%load_ext autoreload\n",
      "%autoreload 2"
     ],
     "language": "python",
     "metadata": {},
     "outputs": [],
     "prompt_number": 2
    }
   ],
   "metadata": {}
  }
 ]
}