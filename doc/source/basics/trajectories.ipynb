{
 "metadata": {
  "name": "",
  "signature": "sha256:d9eb4452bea985d5fd7dbb9d8e0d1bbd52b73292a21cafe3d8bfb7e2d12f088f"
 },
 "nbformat": 3,
 "nbformat_minor": 0,
 "worksheets": [
  {
   "cells": [
    {
     "cell_type": "markdown",
     "metadata": {},
     "source": [
      "# Representation of trajectories"
     ]
    },
    {
     "cell_type": "markdown",
     "metadata": {},
     "source": [
      "`sktracker.trajectories.Trajectories` is probably the most important class in `sktracker` as it represents detected objects and links between them. `Trajectories` is a subclass of `pandas.DataFrame` which provides convenient methods. "
     ]
    },
    {
     "cell_type": "markdown",
     "metadata": {},
     "source": [
      "## Create trajectories\n",
      "All you need to create a `Trajectories` object is a `pandas.DataFrame`. Let's create some trajectories. "
     ]
    },
    {
     "cell_type": "code",
     "collapsed": false,
     "input": [],
     "language": "python",
     "metadata": {},
     "outputs": []
    },
    {
     "cell_type": "markdown",
     "metadata": {},
     "source": [
      "## Vizualize trajectories\n",
      "## Get informations\n",
      "## Modify trajectories\n",
      "## Measurements on trajectories"
     ]
    },
    {
     "cell_type": "code",
     "collapsed": false,
     "input": [
      "# Run this cell first.\n",
      "%matplotlib qt\n",
      "%load_ext autoreload\n",
      "%autoreload 2"
     ],
     "language": "python",
     "metadata": {},
     "outputs": [],
     "prompt_number": 2
    }
   ],
   "metadata": {}
  }
 ]
}