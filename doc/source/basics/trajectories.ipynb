{
 "metadata": {
  "name": "",
  "signature": "sha256:5ccdb0272bd7b659a2b60c362c5ce5ca04013e1ac42fe1a80da71468e93a696c"
 },
 "nbformat": 3,
 "nbformat_minor": 0,
 "worksheets": [
  {
   "cells": [
    {
     "cell_type": "heading",
     "level": 1,
     "metadata": {},
     "source": [
      "Representation of trajectories"
     ]
    }
   ],
   "metadata": {}
  }
 ]
}