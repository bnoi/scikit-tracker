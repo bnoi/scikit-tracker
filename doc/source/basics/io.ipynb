{
 "metadata": {
  "kernelspec": {
   "codemirror_mode": {
    "name": "python",
    "version": 3
   },
   "display_name": "Python 3",
   "language": "python",
   "name": "python3"
  },
  "name": "",
  "signature": "sha256:0b6b6daa1dd29630caeea04a2f4e343749ce4d41f041f0319be913387c050306"
 },
 "nbformat": 3,
 "nbformat_minor": 0,
 "worksheets": [
  {
   "cells": [
    {
     "cell_type": "markdown",
     "metadata": {},
     "source": [
      "# Input / Output\n",
      "\n",
      "TODO"
     ]
    }
   ],
   "metadata": {}
  }
 ]
}