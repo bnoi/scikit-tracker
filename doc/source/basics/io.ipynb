{
 "metadata": {
  "name": "",
  "signature": "sha256:1377c957bb62f1d411b15f1db3a1cc5721d67173c800cf598b2ef8be0523f11e"
 },
 "nbformat": 3,
 "nbformat_minor": 0,
 "worksheets": [
  {
   "cells": [
    {
     "cell_type": "heading",
     "level": 1,
     "metadata": {},
     "source": [
      "Input / Output"
     ]
    },
    {
     "cell_type": "code",
     "collapsed": false,
     "input": [],
     "language": "python",
     "metadata": {},
     "outputs": []
    }
   ],
   "metadata": {}
  }
 ]
}