{
 "metadata": {
  "name": "",
  "signature": "sha256:c885a12e2fe4dae49ebe96aa8c844314e0f9d91964f13cbf0f69adccb58d7d16"
 },
 "nbformat": 3,
 "nbformat_minor": 0,
 "worksheets": [
  {
   "cells": [
    {
     "cell_type": "heading",
     "level": 1,
     "metadata": {},
     "source": [
      "GUI: view and modifiy trajectories manually"
     ]
    },
    {
     "cell_type": "code",
     "collapsed": false,
     "input": [],
     "language": "python",
     "metadata": {},
     "outputs": []
    }
   ],
   "metadata": {}
  }
 ]
}