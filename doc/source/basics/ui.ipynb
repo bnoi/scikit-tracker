{
 "metadata": {
  "name": "",
  "signature": "sha256:894eeafb56e38312d0de4be4bd6a243f8a0f2e7d37522701cfab56d866e4f01f"
 },
 "nbformat": 3,
 "nbformat_minor": 0,
 "worksheets": [
  {
   "cells": [
    {
     "cell_type": "markdown",
     "metadata": {},
     "source": [
      "# GUI: view and modifiy trajectories manually\n",
      "TODO"
     ]
    }
   ],
   "metadata": {}
  }
 ]
}