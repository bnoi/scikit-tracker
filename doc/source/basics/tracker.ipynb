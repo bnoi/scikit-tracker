{
 "metadata": {
  "name": "",
  "signature": "sha256:ab8d3f66bbeaa5dd3f9c6cc6b81f827f1de0fc5ef39857e4d1bfd76da5598898"
 },
 "nbformat": 3,
 "nbformat_minor": 0,
 "worksheets": [
  {
   "cells": [
    {
     "cell_type": "heading",
     "level": 1,
     "metadata": {},
     "source": [
      "Tracking"
     ]
    }
   ],
   "metadata": {}
  }
 ]
}