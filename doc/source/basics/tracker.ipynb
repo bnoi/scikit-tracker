{
 "metadata": {
  "name": "",
  "signature": "sha256:9924f8c9ec0de918a04b56d6dc66a0f0c73a005ac75cfb1d4ca6f8abb2dee902"
 },
 "nbformat": 3,
 "nbformat_minor": 0,
 "worksheets": [
  {
   "cells": [
    {
     "cell_type": "markdown",
     "metadata": {},
     "source": [
      "# Tracking\n",
      "\n",
      "TODO"
     ]
    }
   ],
   "metadata": {}
  }
 ]
}