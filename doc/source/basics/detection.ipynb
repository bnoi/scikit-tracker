{
 "metadata": {
  "name": "",
  "signature": "sha256:1de1ee3ae62ebf3f3e23ec1ef7320a93a7eb5782227b991785e13b2e61076e02"
 },
 "nbformat": 3,
 "nbformat_minor": 0,
 "worksheets": [
  {
   "cells": [
    {
     "cell_type": "markdown",
     "metadata": {},
     "source": [
      "# How to detect objects\n",
      "TODO"
     ]
    }
   ],
   "metadata": {}
  }
 ]
}