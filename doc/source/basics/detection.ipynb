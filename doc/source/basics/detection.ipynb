{
 "metadata": {
  "name": "",
  "signature": "sha256:30761d3d7d13760fef4ea626fed02d7a46d667315ad6540135351d9b9dd81b93"
 },
 "nbformat": 3,
 "nbformat_minor": 0,
 "worksheets": [
  {
   "cells": [
    {
     "cell_type": "heading",
     "level": 1,
     "metadata": {},
     "source": [
      "How to detect objects"
     ]
    },
    {
     "cell_type": "code",
     "collapsed": false,
     "input": [],
     "language": "python",
     "metadata": {},
     "outputs": []
    }
   ],
   "metadata": {}
  }
 ]
}