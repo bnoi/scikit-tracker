{
 "metadata": {
  "name": "",
  "signature": "sha256:4c0914bc86787afc6f9792c9f596ca845881437cee6e038b4e1b4fe2ef972a1c"
 },
 "nbformat": 3,
 "nbformat_minor": 0,
 "worksheets": [
  {
   "cells": [
    {
     "cell_type": "heading",
     "level": 1,
     "metadata": {},
     "source": [
      "Track chromosomes during mitosis"
     ]
    },
    {
     "cell_type": "code",
     "collapsed": false,
     "input": [
      "TODO"
     ],
     "language": "python",
     "metadata": {},
     "outputs": [
      {
       "ename": "NameError",
       "evalue": "name 'TODO' is not defined",
       "output_type": "pyerr",
       "traceback": [
        "\u001b[1;31m---------------------------------------------------------------------------\u001b[0m",
        "\u001b[1;31mNameError\u001b[0m                                 Traceback (most recent call last)",
        "\u001b[1;32m<ipython-input-1-9b7105f44b18>\u001b[0m in \u001b[0;36m<module>\u001b[1;34m()\u001b[0m\n\u001b[1;32m----> 1\u001b[1;33m \u001b[0mTODO\u001b[0m\u001b[1;33m\u001b[0m\u001b[0m\n\u001b[0m",
        "\u001b[1;31mNameError\u001b[0m: name 'TODO' is not defined"
       ]
      }
     ]
    }
   ],
   "metadata": {}
  }
 ]
}