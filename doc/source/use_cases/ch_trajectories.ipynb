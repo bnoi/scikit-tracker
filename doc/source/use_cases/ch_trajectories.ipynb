{
 "metadata": {
  "name": "",
  "signature": "sha256:e32e270ed06f2fc59f7a2d1cfa666d24a7a088f22e45c1c2f557c6e7d3a94772"
 },
 "nbformat": 3,
 "nbformat_minor": 0,
 "worksheets": [
  {
   "cells": [
    {
     "cell_type": "heading",
     "level": 1,
     "metadata": {},
     "source": [
      "Track chromosomes during mitosis"
     ]
    }
   ],
   "metadata": {}
  }
 ]
}