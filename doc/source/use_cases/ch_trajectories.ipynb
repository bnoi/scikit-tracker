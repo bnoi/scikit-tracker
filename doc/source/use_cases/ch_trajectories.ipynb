{
 "metadata": {
  "name": "",
  "signature": "sha256:4c0914bc86787afc6f9792c9f596ca845881437cee6e038b4e1b4fe2ef972a1c"
 },
 "nbformat": 3,
 "nbformat_minor": 0,
 "worksheets": [
  {
   "cells": [
    {
     "cell_type": "heading",
     "level": 1,
     "metadata": {},
     "source": [
      "Track chromosomes during mitosis"
     ]
    },
    {
     "cell_type": "code",
     "collapsed": false,
     "input": [
      "TODO"
     ],
     "language": "python",
     "metadata": {},
     "outputs": []
    }
   ],
   "metadata": {}
  }
 ]
}